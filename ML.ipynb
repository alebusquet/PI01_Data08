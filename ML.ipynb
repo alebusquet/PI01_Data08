{
 "cells": [
  {
   "cell_type": "code",
   "execution_count": 1,
   "metadata": {},
   "outputs": [],
   "source": [
    "import pandas as pd\n",
    "import numpy as np\n",
    "import matplotlib.pyplot as plt\n",
    "import seaborn as sns\n",
    "from sklearn.preprocessing import LabelEncoder"
   ]
  },
  {
   "attachments": {},
   "cell_type": "markdown",
   "metadata": {},
   "source": [
    "##### Cargo la base original de todas las peliculas, ya depurada en modulo anterior"
   ]
  },
  {
   "cell_type": "code",
   "execution_count": 2,
   "metadata": {},
   "outputs": [],
   "source": [
    "# Cargo la base de usuarios y puntajes, que viene del modulo anterior.\n",
    "df_puntajes = pd.read_csv(\"df_puntajes.csv\")"
   ]
  },
  {
   "cell_type": "code",
   "execution_count": 3,
   "metadata": {},
   "outputs": [
    {
     "data": {
      "text/html": [
       "<div>\n",
       "<style scoped>\n",
       "    .dataframe tbody tr th:only-of-type {\n",
       "        vertical-align: middle;\n",
       "    }\n",
       "\n",
       "    .dataframe tbody tr th {\n",
       "        vertical-align: top;\n",
       "    }\n",
       "\n",
       "    .dataframe thead th {\n",
       "        text-align: right;\n",
       "    }\n",
       "</style>\n",
       "<table border=\"1\" class=\"dataframe\">\n",
       "  <thead>\n",
       "    <tr style=\"text-align: right;\">\n",
       "      <th></th>\n",
       "      <th>userId</th>\n",
       "      <th>rating</th>\n",
       "      <th>timestamp</th>\n",
       "      <th>movieId</th>\n",
       "    </tr>\n",
       "  </thead>\n",
       "  <tbody>\n",
       "    <tr>\n",
       "      <th>0</th>\n",
       "      <td>1</td>\n",
       "      <td>1.0</td>\n",
       "      <td>1425941529</td>\n",
       "      <td>as680</td>\n",
       "    </tr>\n",
       "    <tr>\n",
       "      <th>1</th>\n",
       "      <td>1</td>\n",
       "      <td>4.5</td>\n",
       "      <td>1425942435</td>\n",
       "      <td>ns2186</td>\n",
       "    </tr>\n",
       "    <tr>\n",
       "      <th>2</th>\n",
       "      <td>1</td>\n",
       "      <td>5.0</td>\n",
       "      <td>1425941523</td>\n",
       "      <td>hs2381</td>\n",
       "    </tr>\n",
       "    <tr>\n",
       "      <th>3</th>\n",
       "      <td>1</td>\n",
       "      <td>5.0</td>\n",
       "      <td>1425941546</td>\n",
       "      <td>ns3663</td>\n",
       "    </tr>\n",
       "    <tr>\n",
       "      <th>4</th>\n",
       "      <td>1</td>\n",
       "      <td>5.0</td>\n",
       "      <td>1425941556</td>\n",
       "      <td>as9500</td>\n",
       "    </tr>\n",
       "    <tr>\n",
       "      <th>...</th>\n",
       "      <td>...</td>\n",
       "      <td>...</td>\n",
       "      <td>...</td>\n",
       "      <td>...</td>\n",
       "    </tr>\n",
       "    <tr>\n",
       "      <th>11024284</th>\n",
       "      <td>124380</td>\n",
       "      <td>4.5</td>\n",
       "      <td>1196786159</td>\n",
       "      <td>ns5272</td>\n",
       "    </tr>\n",
       "    <tr>\n",
       "      <th>11024285</th>\n",
       "      <td>124380</td>\n",
       "      <td>2.5</td>\n",
       "      <td>1196786030</td>\n",
       "      <td>ns5492</td>\n",
       "    </tr>\n",
       "    <tr>\n",
       "      <th>11024286</th>\n",
       "      <td>124380</td>\n",
       "      <td>3.5</td>\n",
       "      <td>1196785679</td>\n",
       "      <td>hs305</td>\n",
       "    </tr>\n",
       "    <tr>\n",
       "      <th>11024287</th>\n",
       "      <td>124380</td>\n",
       "      <td>4.5</td>\n",
       "      <td>1196787089</td>\n",
       "      <td>ns7881</td>\n",
       "    </tr>\n",
       "    <tr>\n",
       "      <th>11024288</th>\n",
       "      <td>124380</td>\n",
       "      <td>1.5</td>\n",
       "      <td>1196785847</td>\n",
       "      <td>as883</td>\n",
       "    </tr>\n",
       "  </tbody>\n",
       "</table>\n",
       "<p>11024289 rows × 4 columns</p>\n",
       "</div>"
      ],
      "text/plain": [
       "          userId  rating   timestamp movieId\n",
       "0              1     1.0  1425941529   as680\n",
       "1              1     4.5  1425942435  ns2186\n",
       "2              1     5.0  1425941523  hs2381\n",
       "3              1     5.0  1425941546  ns3663\n",
       "4              1     5.0  1425941556  as9500\n",
       "...          ...     ...         ...     ...\n",
       "11024284  124380     4.5  1196786159  ns5272\n",
       "11024285  124380     2.5  1196786030  ns5492\n",
       "11024286  124380     3.5  1196785679   hs305\n",
       "11024287  124380     4.5  1196787089  ns7881\n",
       "11024288  124380     1.5  1196785847   as883\n",
       "\n",
       "[11024289 rows x 4 columns]"
      ]
     },
     "execution_count": 3,
     "metadata": {},
     "output_type": "execute_result"
    }
   ],
   "source": [
    "df_puntajes"
   ]
  },
  {
   "cell_type": "code",
   "execution_count": 4,
   "metadata": {},
   "outputs": [
    {
     "name": "stdout",
     "output_type": "stream",
     "text": [
      "<class 'pandas.core.frame.DataFrame'>\n",
      "RangeIndex: 11024289 entries, 0 to 11024288\n",
      "Data columns (total 4 columns):\n",
      " #   Column     Dtype  \n",
      "---  ------     -----  \n",
      " 0   userId     int64  \n",
      " 1   rating     float64\n",
      " 2   timestamp  int64  \n",
      " 3   movieId    object \n",
      "dtypes: float64(1), int64(2), object(1)\n",
      "memory usage: 336.4+ MB\n"
     ]
    }
   ],
   "source": [
    "df_puntajes.info()"
   ]
  },
  {
   "cell_type": "code",
   "execution_count": 5,
   "metadata": {},
   "outputs": [
    {
     "name": "stdout",
     "output_type": "stream",
     "text": [
      "Valores nulos en columna userid: 0\n"
     ]
    }
   ],
   "source": [
    "# Reviso valores nulos en columna \"userid\". Si hay, elimino la fila ya que no me sera util.\n",
    "print(\"Valores nulos en columna userid:\", df_puntajes[\"userId\"].isnull().sum())"
   ]
  },
  {
   "cell_type": "code",
   "execution_count": 6,
   "metadata": {},
   "outputs": [
    {
     "name": "stdout",
     "output_type": "stream",
     "text": [
      "Tamaño del set antes de ejecutar comando para eliminar filas repetidas: (11024289, 4)\n",
      "Tamaño del set despues de ejecutar comando para eliminar filas repetidas: (11024165, 4)\n"
     ]
    }
   ],
   "source": [
    "# Controlar filas repetidas.\n",
    "print(\"Tamaño del set antes de ejecutar comando para eliminar filas repetidas:\", df_puntajes.shape)\n",
    "df_puntajes.drop_duplicates(inplace=True)\t\t\t    \n",
    "print(\"Tamaño del set despues de ejecutar comando para eliminar filas repetidas:\", df_puntajes.shape)"
   ]
  },
  {
   "attachments": {},
   "cell_type": "markdown",
   "metadata": {},
   "source": [
    "##### Tomo un df con 1 millon de registros, que se seleccionan al azar (esto me permite reducir tiempo y recursos de cpu)."
   ]
  },
  {
   "cell_type": "code",
   "execution_count": 7,
   "metadata": {},
   "outputs": [],
   "source": [
    "# Selecciono 1M de registros aleatorios\n",
    "df_puntajes = df_puntajes.sample(n=1000000, random_state=42)"
   ]
  },
  {
   "cell_type": "code",
   "execution_count": 8,
   "metadata": {},
   "outputs": [
    {
     "name": "stdout",
     "output_type": "stream",
     "text": [
      "<class 'pandas.core.frame.DataFrame'>\n",
      "Int64Index: 1000000 entries, 3888695 to 9441547\n",
      "Data columns (total 4 columns):\n",
      " #   Column     Non-Null Count    Dtype  \n",
      "---  ------     --------------    -----  \n",
      " 0   userId     1000000 non-null  int64  \n",
      " 1   rating     1000000 non-null  float64\n",
      " 2   timestamp  1000000 non-null  int64  \n",
      " 3   movieId    1000000 non-null  object \n",
      "dtypes: float64(1), int64(2), object(1)\n",
      "memory usage: 38.1+ MB\n"
     ]
    }
   ],
   "source": [
    "df_puntajes.info()"
   ]
  },
  {
   "cell_type": "markdown",
   "metadata": {},
   "source": [
    "##### Importo la libreria Surprise"
   ]
  },
  {
   "cell_type": "code",
   "execution_count": 9,
   "metadata": {},
   "outputs": [],
   "source": [
    "from surprise import Dataset, Reader\n",
    "from surprise import accuracy, SVD\n",
    "from surprise.model_selection import train_test_split\n",
    "from collections import defaultdict\n",
    "from sklearn.metrics import precision_score, recall_score, f1_score\n",
    "from sklearn.metrics import precision_recall_fscore_support"
   ]
  },
  {
   "cell_type": "code",
   "execution_count": 10,
   "metadata": {},
   "outputs": [],
   "source": [
    "# Hago una copia de trabajo del dataframe.\n",
    "df_muestra = df_puntajes.copy()"
   ]
  },
  {
   "cell_type": "code",
   "execution_count": 11,
   "metadata": {},
   "outputs": [
    {
     "name": "stdout",
     "output_type": "stream",
     "text": [
      "DataFrame de puntajes con códigos numéricos:\n",
      "          userId  rating   timestamp movieId      item\n",
      "3888695   40431     3.0   837504048   ns646  49318095\n",
      "5020462   51709     5.0  1107206094  ns8734  16389308\n",
      "8357866  258464     3.0  1182822418  hs3061  54345539\n",
      "9287538  268333     3.0  1428992622  as5176  80418119\n",
      "2792891   29030     3.0  1464194046  hs2337  94064760\n",
      "...         ...     ...         ...     ...       ...\n",
      "2127804   22103     4.0  1082184112  as6774  99303897\n",
      "1277326   13112     3.5  1347226475    ds75  65748886\n",
      "3121097   32561     4.0  1475707038  as6700  96037492\n",
      "3648687   38014     3.5  1310118323  as1849  15453892\n",
      "9441547  270071     3.5  1488785537  ns2699  75514247\n",
      "\n",
      "[1000000 rows x 5 columns]\n",
      "DataFrame de correlación:\n",
      "       movieId      item\n",
      "0       ns646  49318095\n",
      "1      ns8734  16389308\n",
      "2      hs3061  54345539\n",
      "3      as5176  80418119\n",
      "4      hs2337  94064760\n",
      "...       ...       ...\n",
      "22993  ns8212  88219770\n",
      "22994  ns6168  75697935\n",
      "22995  as9016  13034490\n",
      "22996  ns6726  15668898\n",
      "22997  as5167  35850247\n",
      "\n",
      "[22998 rows x 2 columns]\n"
     ]
    }
   ],
   "source": [
    "# Uso el comando hash() para transformar la columna \"item\" a numerica y creo otra base para guardar la correlacion.\n",
    "\n",
    "# Utilizo un diccionario para guardar la correlacion con el codigo original.\n",
    "diccionario_codigos = {}\n",
    "for codigo in df_muestra['movieId'].unique():\n",
    "    codigo_num = hash(codigo) % (10 ** 8)               # Genero el número entero único para cada código de película\n",
    "    diccionario_codigos[codigo] = codigo_num\n",
    "    \n",
    "# Agrego una columna al df con los números correspondientes a cada código de película.\n",
    "df_muestra['item'] = df_muestra['movieId'].map(diccionario_codigos)\n",
    "\n",
    "# Creo un dataFrame de correlación entre los códigos de película originales y los códigos numéricos.\n",
    "df_correlacion = pd.DataFrame({'movieId': list(diccionario_codigos.keys()), 'item': list(diccionario_codigos.values())})\n",
    "\n",
    "# Imprimimos los resultados\n",
    "print('DataFrame de puntajes con códigos numéricos:\\n', df_muestra) # [['user', 'item', 'rating', 'timestamp']])\n",
    "print('DataFrame de correlación:\\n', df_correlacion)\n"
   ]
  },
  {
   "cell_type": "code",
   "execution_count": 12,
   "metadata": {},
   "outputs": [],
   "source": [
    "# Cambio el orden de las columnas para adaptarlas al standard de la libreria Surprise.\n",
    "columnas = ['userId', 'item', 'rating', 'timestamp', 'movieId']\n",
    "df_muestra = df_muestra.reindex(columns=columnas)\n",
    "\n",
    "# Elimino la columna 'movieId' del original.\n",
    "df_muestra = df_muestra.drop('movieId', axis=1)\n",
    "\n",
    "# Renombro para adaptar al standard de la libreria Surprise.\n",
    "df_muestra = df_muestra.rename(columns={'userId': 'user'})"
   ]
  },
  {
   "cell_type": "code",
   "execution_count": 13,
   "metadata": {},
   "outputs": [
    {
     "data": {
      "text/html": [
       "<div>\n",
       "<style scoped>\n",
       "    .dataframe tbody tr th:only-of-type {\n",
       "        vertical-align: middle;\n",
       "    }\n",
       "\n",
       "    .dataframe tbody tr th {\n",
       "        vertical-align: top;\n",
       "    }\n",
       "\n",
       "    .dataframe thead th {\n",
       "        text-align: right;\n",
       "    }\n",
       "</style>\n",
       "<table border=\"1\" class=\"dataframe\">\n",
       "  <thead>\n",
       "    <tr style=\"text-align: right;\">\n",
       "      <th></th>\n",
       "      <th>user</th>\n",
       "      <th>item</th>\n",
       "      <th>rating</th>\n",
       "      <th>timestamp</th>\n",
       "    </tr>\n",
       "  </thead>\n",
       "  <tbody>\n",
       "    <tr>\n",
       "      <th>3888695</th>\n",
       "      <td>40431</td>\n",
       "      <td>49318095</td>\n",
       "      <td>3.0</td>\n",
       "      <td>837504048</td>\n",
       "    </tr>\n",
       "    <tr>\n",
       "      <th>5020462</th>\n",
       "      <td>51709</td>\n",
       "      <td>16389308</td>\n",
       "      <td>5.0</td>\n",
       "      <td>1107206094</td>\n",
       "    </tr>\n",
       "    <tr>\n",
       "      <th>8357866</th>\n",
       "      <td>258464</td>\n",
       "      <td>54345539</td>\n",
       "      <td>3.0</td>\n",
       "      <td>1182822418</td>\n",
       "    </tr>\n",
       "    <tr>\n",
       "      <th>9287538</th>\n",
       "      <td>268333</td>\n",
       "      <td>80418119</td>\n",
       "      <td>3.0</td>\n",
       "      <td>1428992622</td>\n",
       "    </tr>\n",
       "    <tr>\n",
       "      <th>2792891</th>\n",
       "      <td>29030</td>\n",
       "      <td>94064760</td>\n",
       "      <td>3.0</td>\n",
       "      <td>1464194046</td>\n",
       "    </tr>\n",
       "  </tbody>\n",
       "</table>\n",
       "</div>"
      ],
      "text/plain": [
       "           user      item  rating   timestamp\n",
       "3888695   40431  49318095     3.0   837504048\n",
       "5020462   51709  16389308     5.0  1107206094\n",
       "8357866  258464  54345539     3.0  1182822418\n",
       "9287538  268333  80418119     3.0  1428992622\n",
       "2792891   29030  94064760     3.0  1464194046"
      ]
     },
     "execution_count": 13,
     "metadata": {},
     "output_type": "execute_result"
    }
   ],
   "source": [
    "df_muestra.head()"
   ]
  },
  {
   "cell_type": "code",
   "execution_count": 14,
   "metadata": {},
   "outputs": [],
   "source": [
    "df_muestra.to_csv(\"df_muestra.csv\", index=False)"
   ]
  },
  {
   "cell_type": "code",
   "execution_count": 15,
   "metadata": {},
   "outputs": [],
   "source": [
    "# Ingreso los valores de entrada.\n",
    "usuario = 51709\n",
    "pelicula = \"ns8734\""
   ]
  },
  {
   "cell_type": "code",
   "execution_count": 16,
   "metadata": {},
   "outputs": [
    {
     "name": "stdout",
     "output_type": "stream",
     "text": [
      "El valor de 'item' correspondiente a 'movieId' ns8734 es: 16389308\n"
     ]
    }
   ],
   "source": [
    "# Efectuo la transformacion del codio alfanumerico de pelicula, al codigo numerico de ingreso al modelo.\n",
    "unique_movieIds = df_correlacion['movieId'].unique()\n",
    "\n",
    "if pelicula in unique_movieIds:\n",
    "    peli = df_correlacion.loc[df_correlacion['movieId'] == pelicula, 'item'].iloc[0]\n",
    "    print(f\"El valor de 'item' correspondiente a 'movieId' {pelicula} es: {peli}\")\n",
    "else:\n",
    "    print(f\"El valor de 'movieId' {pelicula} no se encuentra en el DataFrame\")"
   ]
  },
  {
   "cell_type": "code",
   "execution_count": 17,
   "metadata": {},
   "outputs": [
    {
     "data": {
      "text/html": [
       "<div>\n",
       "<style scoped>\n",
       "    .dataframe tbody tr th:only-of-type {\n",
       "        vertical-align: middle;\n",
       "    }\n",
       "\n",
       "    .dataframe tbody tr th {\n",
       "        vertical-align: top;\n",
       "    }\n",
       "\n",
       "    .dataframe thead th {\n",
       "        text-align: right;\n",
       "    }\n",
       "</style>\n",
       "<table border=\"1\" class=\"dataframe\">\n",
       "  <thead>\n",
       "    <tr style=\"text-align: right;\">\n",
       "      <th></th>\n",
       "      <th>movieId</th>\n",
       "      <th>item</th>\n",
       "    </tr>\n",
       "  </thead>\n",
       "  <tbody>\n",
       "    <tr>\n",
       "      <th>0</th>\n",
       "      <td>ns646</td>\n",
       "      <td>49318095</td>\n",
       "    </tr>\n",
       "    <tr>\n",
       "      <th>1</th>\n",
       "      <td>ns8734</td>\n",
       "      <td>16389308</td>\n",
       "    </tr>\n",
       "    <tr>\n",
       "      <th>2</th>\n",
       "      <td>hs3061</td>\n",
       "      <td>54345539</td>\n",
       "    </tr>\n",
       "    <tr>\n",
       "      <th>3</th>\n",
       "      <td>as5176</td>\n",
       "      <td>80418119</td>\n",
       "    </tr>\n",
       "    <tr>\n",
       "      <th>4</th>\n",
       "      <td>hs2337</td>\n",
       "      <td>94064760</td>\n",
       "    </tr>\n",
       "  </tbody>\n",
       "</table>\n",
       "</div>"
      ],
      "text/plain": [
       "  movieId      item\n",
       "0   ns646  49318095\n",
       "1  ns8734  16389308\n",
       "2  hs3061  54345539\n",
       "3  as5176  80418119\n",
       "4  hs2337  94064760"
      ]
     },
     "execution_count": 17,
     "metadata": {},
     "output_type": "execute_result"
    }
   ],
   "source": [
    "df_correlacion.head()"
   ]
  },
  {
   "cell_type": "code",
   "execution_count": 18,
   "metadata": {},
   "outputs": [],
   "source": [
    "# Creo el objeto Reader y cargo los datos.\n",
    "reader = Reader(line_format='user item rating timestamp', sep=',', skip_lines=1)\n",
    "data = Dataset.load_from_file(\"./df_muestra.csv\", reader=reader)\n"
   ]
  },
  {
   "cell_type": "code",
   "execution_count": 19,
   "metadata": {},
   "outputs": [],
   "source": [
    "# Divido los datos en subconjuntos de entrenamiento y prueba.\n",
    "trainset, testset = train_test_split(data, test_size=0.20)"
   ]
  },
  {
   "cell_type": "code",
   "execution_count": 20,
   "metadata": {},
   "outputs": [
    {
     "data": {
      "text/plain": [
       "<surprise.prediction_algorithms.matrix_factorization.SVD at 0x1275b80a0>"
      ]
     },
     "execution_count": 20,
     "metadata": {},
     "output_type": "execute_result"
    }
   ],
   "source": [
    "# Defino modelo SVD y entreno con el conjunto de entrenamiento\n",
    "model = SVD()\n",
    "model.fit(trainset)"
   ]
  },
  {
   "cell_type": "code",
   "execution_count": 21,
   "metadata": {},
   "outputs": [
    {
     "name": "stdout",
     "output_type": "stream",
     "text": [
      "Si se recomienda la película para este usuario.\n"
     ]
    }
   ],
   "source": [
    "# Esto es de Rick ahora\n",
    "\n",
    "# Obtener la predicción del modelo para el usuario y película especificados\n",
    "pred = model.predict(uid=usuario, iid=peli)\n",
    "\n",
    "# Obtener la valoración estimada\n",
    "rating = pred.est\n",
    "\n",
    "# Si la valoración es mayor o igual a 3, se recomienda la película, de lo contrario, no se recomienda\n",
    "if rating >= 3.5:\n",
    "    print(\"Si se recomienda la película para este usuario.\")\n",
    "else:\n",
    "    print(\"No se recomienda la película para este usuario.\")\n"
   ]
  },
  {
   "cell_type": "code",
   "execution_count": 22,
   "metadata": {},
   "outputs": [],
   "source": [
    "predictions = model.test(testset)"
   ]
  },
  {
   "cell_type": "code",
   "execution_count": 23,
   "metadata": {},
   "outputs": [
    {
     "name": "stdout",
     "output_type": "stream",
     "text": [
      "RMSE: 1.0076\n"
     ]
    },
    {
     "data": {
      "text/plain": [
       "1.0075768882810714"
      ]
     },
     "execution_count": 23,
     "metadata": {},
     "output_type": "execute_result"
    }
   ],
   "source": [
    "# Para medir la prediccion, utilizo el RMSE.\n",
    "accuracy.rmse(predictions)"
   ]
  },
  {
   "cell_type": "code",
   "execution_count": 24,
   "metadata": {},
   "outputs": [
    {
     "name": "stdout",
     "output_type": "stream",
     "text": [
      "MAE:  0.7905\n"
     ]
    }
   ],
   "source": [
    "# Metrica MAE.\n",
    "mae = accuracy.mae(predictions)"
   ]
  },
  {
   "cell_type": "code",
   "execution_count": 25,
   "metadata": {},
   "outputs": [
    {
     "name": "stdout",
     "output_type": "stream",
     "text": [
      "Precision para el modelo es:  0.7063383858636084\n",
      "Recall para el modelo es: :  0.6403832637200171\n",
      "F1-score para el modelo es: :  0.6717457627118644\n"
     ]
    }
   ],
   "source": [
    "# Calculo la precisión, la exhaustividad y la F1-score\n",
    "y_true = [int(pred.r_ui >= 3.5) for pred in predictions]    # 1 si el usuario calificó la película con 3.5 o más estrellas, 0 en caso contrario\n",
    "y_pred = [pred.est >= 3.5 for pred in predictions]          # 1 si el modelo predice una calificación de 3.5 o más estrellas, 0 en caso contrario\n",
    "\n",
    "precision = precision_score(y_true, y_pred)\n",
    "recall = recall_score(y_true, y_pred)\n",
    "f1 = f1_score(y_true, y_pred)\n",
    "\n",
    "print(\"Precision para el modelo es: \", precision)\n",
    "print(\"Recall para el modelo es: : \", recall)\n",
    "print(\"F1-score para el modelo es: : \", f1)"
   ]
  }
 ],
 "metadata": {
  "kernelspec": {
   "display_name": "Python 3",
   "language": "python",
   "name": "python3"
  },
  "language_info": {
   "codemirror_mode": {
    "name": "ipython",
    "version": 3
   },
   "file_extension": ".py",
   "mimetype": "text/x-python",
   "name": "python",
   "nbconvert_exporter": "python",
   "pygments_lexer": "ipython3",
   "version": "3.10.4"
  },
  "orig_nbformat": 4
 },
 "nbformat": 4,
 "nbformat_minor": 2
}
